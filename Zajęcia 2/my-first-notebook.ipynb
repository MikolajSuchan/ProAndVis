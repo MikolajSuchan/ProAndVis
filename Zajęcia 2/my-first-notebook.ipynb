{
 "cells": [
  {
   "cell_type": "markdown",
   "metadata": {},
   "source": [
    "# MY FIRST JUPITER NOTEBOOK\n",
    "---"
   ]
  },
  {
   "cell_type": "markdown",
   "metadata": {},
   "source": [
    "## Short Definition\n",
    "A Jupyter notebook is a web-based interactive environment for creating and sharing documents that contain **code, text, and visualizations**. It is a powerful tool for data science, machine learning, and other technical fields.\n",
    "\n",
    "Jupyter notebooks are organized into **cells, which can contain either code or text**. Code cells are executed by the Jupyter kernel, which is a programming environment that runs the code and displays the results. Text cells can contain Markdown or LaTeX formatting, which allows you to create rich and readable documents."
   ]
  },
  {
   "cell_type": "markdown",
   "metadata": {},
   "source": [
    "## Simple Example"
   ]
  },
  {
   "cell_type": "markdown",
   "metadata": {},
   "source": [
    "Below, in the code cells, you have simple Python statements. Execute these cells one by one. Note that data can be displayed in many ways."
   ]
  },
  {
   "cell_type": "code",
   "execution_count": 5,
   "metadata": {},
   "outputs": [
    {
     "data": {
      "text/plain": [
       "'Peter'"
      ]
     },
     "execution_count": 5,
     "metadata": {},
     "output_type": "execute_result"
    }
   ],
   "source": [
    "name = 'Peter'\n",
    "name"
   ]
  },
  {
   "cell_type": "code",
   "execution_count": 6,
   "metadata": {},
   "outputs": [
    {
     "name": "stdout",
     "output_type": "stream",
     "text": [
      "My name is Peter\n",
      "I am 23\n"
     ]
    }
   ],
   "source": [
    "age = 23\n",
    "print('My name is ' + name)\n",
    "print('I am ' + str(age))"
   ]
  },
  {
   "cell_type": "code",
   "execution_count": 7,
   "metadata": {},
   "outputs": [
    {
     "data": {
      "text/plain": [
       "'In seven years, I will be 30'"
      ]
     },
     "execution_count": 7,
     "metadata": {},
     "output_type": "execute_result"
    }
   ],
   "source": [
    "older = age + 7\n",
    "f'In seven years, I will be {older}'"
   ]
  },
  {
   "cell_type": "markdown",
   "metadata": {},
   "source": [
    "### Tasks"
   ]
  },
  {
   "cell_type": "markdown",
   "metadata": {},
   "source": [
    "A student took part in three tests. He scored 20 points on the first test, 15 points on the second test, and 30 points on the third test. Calculate and display:\n",
    "\n",
    "* the sum of points from all tests\n",
    "* the arithmetic mean of the points obtained"
   ]
  },
  {
   "cell_type": "code",
   "execution_count": 16,
   "metadata": {},
   "outputs": [
    {
     "name": "stdout",
     "output_type": "stream",
     "text": [
      "Sum points of all tests: 65\n",
      "Arithmetic Mean of the points obtained: 21.666666666666668\n"
     ]
    }
   ],
   "source": [
    "test1 = 20\n",
    "test2 = 15\n",
    "test3 = 30\n",
    "\n",
    "sum=test1+test2+test3\n",
    "\n",
    "counter=3\n",
    "\n",
    "mean=sum/counter\n",
    "\n",
    "print(f\"Sum points of all tests: {sum}\")\n",
    "print(f\"Arithmetic Mean of the points obtained: {mean}\")\n",
    "\n",
    "# complete this task\n",
    "# display results along with some description (do not diplay only raw numbers)"
   ]
  },
  {
   "cell_type": "markdown",
   "metadata": {},
   "source": [
    "A bicycle speed is 25 km/h. Display the bicycle speed in both km/h and m/s."
   ]
  },
  {
   "cell_type": "code",
   "execution_count": 15,
   "metadata": {},
   "outputs": [
    {
     "name": "stdout",
     "output_type": "stream",
     "text": [
      "Speed in km/h: 25\n",
      "Speed in m/s: 6.944444444444445\n"
     ]
    }
   ],
   "source": [
    "speed=25 #km/h\n",
    "mspeed=speed/3.6 #m/s\n",
    "\n",
    "print(f\"Speed in km/h: {speed}\")\n",
    "print(f\"Speed in m/s: {mspeed}\")"
   ]
  },
  {
   "cell_type": "markdown",
   "metadata": {},
   "source": [
    "The distance from Krakow to Warsaw is 315 km. Travel time by car is 210 minutes. Calculate and display the average speed of the car in km/h."
   ]
  },
  {
   "cell_type": "code",
   "execution_count": 12,
   "metadata": {},
   "outputs": [
    {
     "name": "stdout",
     "output_type": "stream",
     "text": [
      "Average speed: 90.0\n"
     ]
    }
   ],
   "source": [
    "distance=315 #km\n",
    "timet=210 #Travel time\n",
    "avgspeed=distance/(timet/60)\n",
    "\n",
    "print(f\"Average speed: {avgspeed}\")"
   ]
  },
  {
   "cell_type": "markdown",
   "metadata": {},
   "source": [
    "## Entering Data from Keyboard"
   ]
  },
  {
   "cell_type": "markdown",
   "metadata": {},
   "source": [
    "You can also enter data using the keyboard. The input() statement is used for this purpose. Note that keyboard input is in text form. So, if you want to enter a number, you must convert the entered value to a number after entering it. The int() and float() functions are used for this purpose."
   ]
  },
  {
   "cell_type": "code",
   "execution_count": 9,
   "metadata": {},
   "outputs": [
    {
     "name": "stdout",
     "output_type": "stream",
     "text": [
      "Task 23\n"
     ]
    }
   ],
   "source": [
    "name = input('Product name: ')\n",
    "qty = input('Product quantity: ')\n",
    "qty = int(qty)\n",
    "print(name,qty)"
   ]
  },
  {
   "cell_type": "markdown",
   "metadata": {},
   "source": [
    "### Tasks"
   ]
  },
  {
   "cell_type": "markdown",
   "metadata": {},
   "source": [
    "Calculate and display the area and perimeter of a rectangle with sides a and b. Read the lengths of the rectangle's sides from the keyboard."
   ]
  },
  {
   "cell_type": "code",
   "execution_count": 14,
   "metadata": {},
   "outputs": [
    {
     "name": "stdout",
     "output_type": "stream",
     "text": [
      "Area of the rectangle is equal to 100 unit^2 \n",
      "Perimeter of the rectangle is equal to 40 unit\n"
     ]
    }
   ],
   "source": [
    "width=input(\"Enter width of the rectangle:\")\n",
    "lenght=input(\"Enter lenght of the rectangle:\")\n",
    "\n",
    "area=int(width)*int(lenght)\n",
    "perimeter=2*int(width)+2*int(lenght)\n",
    "\n",
    "print(f\"Area of the rectangle is equal to {area} unit^2 \")\n",
    "print(f\"Perimeter of the rectangle is equal to {perimeter} unit\")"
   ]
  }
 ],
 "metadata": {
  "kernelspec": {
   "display_name": "Python 3",
   "language": "python",
   "name": "python3"
  },
  "language_info": {
   "codemirror_mode": {
    "name": "ipython",
    "version": 3
   },
   "file_extension": ".py",
   "mimetype": "text/x-python",
   "name": "python",
   "nbconvert_exporter": "python",
   "pygments_lexer": "ipython3",
   "version": "3.11.5"
  }
 },
 "nbformat": 4,
 "nbformat_minor": 2
}
