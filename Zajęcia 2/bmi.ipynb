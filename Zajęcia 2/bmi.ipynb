{
 "cells": [
  {
   "cell_type": "markdown",
   "metadata": {},
   "source": [
    "# Body Mass Index"
   ]
  },
  {
   "cell_type": "markdown",
   "metadata": {},
   "source": [
    "**Body mass index (BMI)** is a value derived from the mass (weight) and height of a person. The BMI is defined as the body mass divided by the square of the body height, and is expressed in units of kg/m2, resulting from mass in kilograms (kg) and height in metres (m)."
   ]
  },
  {
   "cell_type": "code",
   "execution_count": 10,
   "metadata": {},
   "outputs": [],
   "source": [
    "weight=int(input(\"Please eneter the body weight in kg: \"))\n",
    "height=float(input(\"Please enter the body height in m(Please add dot between numbers): \"))"
   ]
  },
  {
   "cell_type": "markdown",
   "metadata": {},
   "source": [
    "![Chart1](https://upload.wikimedia.org/wikipedia/commons/c/cc/BMI_chart.png)"
   ]
  },
  {
   "cell_type": "code",
   "execution_count": 11,
   "metadata": {},
   "outputs": [
    {
     "name": "stdout",
     "output_type": "stream",
     "text": [
      "Your weight is equal to: 100\n",
      "Your height in m is equal to: 1.75\n",
      "BMI for entered data is equal to : 32.6530612244898\n"
     ]
    }
   ],
   "source": [
    "bmi=weight/(height*height)\n",
    "\n",
    "print(f\"Your weight is equal to: {weight}\")\n",
    "print(f\"Your height in m is equal to: {height}\")\n",
    "print(f\"BMI for entered data is equal to : {bmi}\")"
   ]
  }
 ],
 "metadata": {
  "kernelspec": {
   "display_name": "base",
   "language": "python",
   "name": "python3"
  },
  "language_info": {
   "codemirror_mode": {
    "name": "ipython",
    "version": 3
   },
   "file_extension": ".py",
   "mimetype": "text/x-python",
   "name": "python",
   "nbconvert_exporter": "python",
   "pygments_lexer": "ipython3",
   "version": "3.11.5"
  }
 },
 "nbformat": 4,
 "nbformat_minor": 2
}
