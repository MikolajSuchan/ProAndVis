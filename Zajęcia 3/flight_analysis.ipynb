{
 "cells": [
  {
   "cell_type": "code",
   "execution_count": 3,
   "metadata": {},
   "outputs": [],
   "source": [
    "# Import necessary libraries\n",
    "import pandas as pd\n",
    "\n",
    "# Load the CSV files\n",
    "flights = pd.read_csv(\"c:\\\\Users\\\\mikol\\\\OneDrive\\\\Pulpit\\\\Projekty\\\\ProAndVis\\\\Zajęcia 3\\\\krk-flights.csv\")\n",
    "passengers = pd.read_csv(\"c:\\\\Users\\\\mikol\\\\OneDrive\\\\Pulpit\\\\Projekty\\\\ProAndVis\\\\Zajęcia 3\\\\krk-passengers.csv\")\n",
    "airlines = pd.read_csv(\"c:\\\\Users\\\\mikol\\\\OneDrive\\\\Pulpit\\\\Projekty\\\\ProAndVis\\\\Zajęcia 3\\\\krk-airlines.csv\")\n"
   ]
  },
  {
   "cell_type": "code",
   "execution_count": 4,
   "metadata": {},
   "outputs": [
    {
     "name": "stdout",
     "output_type": "stream",
     "text": [
      "Flight Number and Destination:\n",
      "  flight        to\n",
      "0  LN222    London\n",
      "1  BE321    Berlin\n",
      "2  PA006     Paris\n",
      "3  NY777  New York\n"
     ]
    }
   ],
   "source": [
    "# 1. List including flight number and destination\n",
    "flight_destinations = flights[['flight', 'to']]\n",
    "print(\"Flight Number and Destination:\")\n",
    "print(flight_destinations)"
   ]
  },
  {
   "cell_type": "code",
   "execution_count": 5,
   "metadata": {},
   "outputs": [
    {
     "name": "stdout",
     "output_type": "stream",
     "text": [
      "\n",
      "Flight List with Airline and Aircraft:\n",
      "  flight     airline     airplane\n",
      "0  LN222   PanEurope   Boeing 787\n",
      "1  BE321  SunHoliday  Airbus A319\n",
      "2  PA006  SunHoliday  Airbus A319\n",
      "3  NY777     BlueSky  Airbus A330\n"
     ]
    }
   ],
   "source": [
    "# 2. Flight list with the full name of the airline and the name of the aircraft\n",
    "flights_with_airlines = flights.merge(airlines, on='airlineid')[['flight', 'airline', 'airplane']]\n",
    "print(\"\\nFlight List with Airline and Aircraft:\")\n",
    "print(flights_with_airlines)"
   ]
  },
  {
   "cell_type": "code",
   "execution_count": 6,
   "metadata": {},
   "outputs": [
    {
     "name": "stdout",
     "output_type": "stream",
     "text": [
      "\n",
      "Passengers on Flight to London (Sorted by Surname):\n",
      "   flight      name     surname  gender\n",
      "99  LN222   Claudie       Braid  Female\n",
      "9   LN222  Nehemiah     Budcock    Male\n",
      "98  LN222    Ingmar     Cockman    Male\n",
      "35  LN222    Willyt     Matlock  Female\n",
      "61  LN222    Rennie  McComiskey  Female\n",
      "4   LN222  Ferguson       Osban    Male\n",
      "41  LN222    Nolana      Pattie  Female\n",
      "70  LN222    Mareah      Peplay  Female\n",
      "56  LN222    Araldo     Permain    Male\n",
      "62  LN222    Stormy       Quare  Female\n",
      "73  LN222      Edik     Smieton    Male\n",
      "16  LN222     Lindi       Snoad  Female\n",
      "97  LN222  Emmanuel      Tickel    Male\n",
      "85  LN222    Ashton    Tregunna    Male\n",
      "77  LN222  Brewster        Vear    Male\n"
     ]
    }
   ],
   "source": [
    "# 3. List of passengers on a flight to London sorted by surname\n",
    "london_flight = flights[flights['to'] == 'London']['flight'].iloc[0]\n",
    "london_passengers = passengers[passengers['flight'] == london_flight].sort_values(by='surname')\n",
    "print(\"\\nPassengers on Flight to London (Sorted by Surname):\")\n",
    "print(london_passengers)"
   ]
  },
  {
   "cell_type": "code",
   "execution_count": 7,
   "metadata": {},
   "outputs": [
    {
     "name": "stdout",
     "output_type": "stream",
     "text": [
      "\n",
      "Women Flying to Paris (Sorted by Surname):\n",
      "   flight       name     surname  gender\n",
      "15  PA006    Miguela      Benzie  Female\n",
      "3   PA006      Heath  Butterfill  Female\n",
      "69  PA006    Erminie     Earland  Female\n",
      "91  PA006     Janene       Elger  Female\n",
      "44  PA006      Alene        Emig  Female\n",
      "25  PA006    Chelsae       Evins  Female\n",
      "46  PA006      Fanny    Fennessy  Female\n",
      "84  PA006      Paige   Freeborne  Female\n",
      "89  PA006    Genevra    Garlicke  Female\n",
      "66  PA006      Linda      Kupper  Female\n",
      "21  PA006  Annemarie      Letson  Female\n",
      "79  PA006        Lia     Mapston  Female\n",
      "1   PA006      Korry     McGrann  Female\n",
      "42  PA006     Ivette     Milesap  Female\n",
      "36  PA006      Leann   Pinkerton  Female\n",
      "22  PA006       Cloe    Salzberg  Female\n",
      "90  PA006     Prisca   Scutching  Female\n",
      "32  PA006        Kip     Sumpton  Female\n",
      "51  PA006     Blanch        Tink  Female\n",
      "55  PA006      Talia      Yendle  Female\n"
     ]
    }
   ],
   "source": [
    "# 4. List of women flying to Paris ordered by surname\n",
    "paris_flight = flights[flights['to'] == 'Paris']['flight'].iloc[0]\n",
    "women_to_paris = passengers[(passengers['flight'] == paris_flight) & (passengers['gender'] == 'Female')].sort_values(by='surname')\n",
    "print(\"\\nWomen Flying to Paris (Sorted by Surname):\")\n",
    "print(women_to_paris)"
   ]
  },
  {
   "cell_type": "code",
   "execution_count": 8,
   "metadata": {},
   "outputs": [
    {
     "name": "stdout",
     "output_type": "stream",
     "text": [
      "\n",
      "Number of Passengers on Flight to Berlin:\n",
      "17\n"
     ]
    }
   ],
   "source": [
    "# 5. Number of passengers on the flight to Berlin\n",
    "berlin_flight = flights[flights['to'] == 'Berlin']['flight'].iloc[0]\n",
    "passengers_to_berlin = passengers[passengers['flight'] == berlin_flight].shape[0]\n",
    "print(\"\\nNumber of Passengers on Flight to Berlin:\")\n",
    "print(passengers_to_berlin)"
   ]
  },
  {
   "cell_type": "code",
   "execution_count": 9,
   "metadata": {},
   "outputs": [
    {
     "name": "stdout",
     "output_type": "stream",
     "text": [
      "\n",
      "Number of Men Flying from Krakow:\n",
      "54\n"
     ]
    }
   ],
   "source": [
    "# 6. Number of men flying from Krakow\n",
    "men_from_krakow = passengers[passengers['gender'] == 'Male'].merge(flights, on='flight')\n",
    "number_of_men_from_krakow = men_from_krakow[men_from_krakow['from'] == 'Krakow'].shape[0]\n",
    "print(\"\\nNumber of Men Flying from Krakow:\")\n",
    "print(number_of_men_from_krakow)"
   ]
  },
  {
   "cell_type": "code",
   "execution_count": 10,
   "metadata": {},
   "outputs": [
    {
     "name": "stdout",
     "output_type": "stream",
     "text": [
      "\n",
      "Number of Passengers for Each Flight:\n",
      "  flight  passenger_count\n",
      "0  PA006               41\n",
      "1  NY777               27\n",
      "2  BE321               17\n",
      "3  LN222               15\n"
     ]
    }
   ],
   "source": [
    "# 7. Number of passengers for each flight\n",
    "passenger_count_per_flight = passengers['flight'].value_counts().reset_index()\n",
    "passenger_count_per_flight.columns = ['flight', 'passenger_count']\n",
    "print(\"\\nNumber of Passengers for Each Flight:\")\n",
    "print(passenger_count_per_flight)"
   ]
  }
 ],
 "metadata": {
  "kernelspec": {
   "display_name": "base",
   "language": "python",
   "name": "python3"
  },
  "language_info": {
   "codemirror_mode": {
    "name": "ipython",
    "version": 3
   },
   "file_extension": ".py",
   "mimetype": "text/x-python",
   "name": "python",
   "nbconvert_exporter": "python",
   "pygments_lexer": "ipython3",
   "version": "3.12.7"
  }
 },
 "nbformat": 4,
 "nbformat_minor": 2
}
