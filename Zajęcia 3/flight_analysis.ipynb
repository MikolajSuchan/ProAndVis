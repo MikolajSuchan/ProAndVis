{
 "cells": [
  {
   "cell_type": "code",
   "execution_count": 3,
   "metadata": {},
   "outputs": [],
   "source": [
    "# Import necessary libraries\n",
    "import pandas as pd\n",
    "\n",
    "# Load the CSV files\n",
    "flights = pd.read_csv(\"c:\\\\Users\\\\mikol\\\\OneDrive\\\\Pulpit\\\\Projekty\\\\ProAndVis\\\\Zajęcia 3\\\\krk-flights.csv\")\n",
    "passengers = pd.read_csv(\"c:\\\\Users\\\\mikol\\\\OneDrive\\\\Pulpit\\\\Projekty\\\\ProAndVis\\\\Zajęcia 3\\\\krk-passengers.csv\")\n",
    "airlines = pd.read_csv(\"c:\\\\Users\\\\mikol\\\\OneDrive\\\\Pulpit\\\\Projekty\\\\ProAndVis\\\\Zajęcia 3\\\\krk-airlines.csv\")\n"
   ]
  },
  {
   "cell_type": "code",
   "execution_count": 4,
   "metadata": {},
   "outputs": [
    {
     "name": "stdout",
     "output_type": "stream",
     "text": []
    }
   ],
   "source": [
    "# 1. List including flight number and destination\n",
    "flight_destinations = flights[['flight', 'to']]\n",
    "print(\"Flight Number and Destination:\")\n",
    "print(flight_destinations)"
   ]
  },
  {
   "cell_type": "code",
   "execution_count": 5,
   "metadata": {},
   "outputs": [
    {
     "name": "stdout",
     "output_type": "stream",
     "text": []
    }
   ],
   "source": [
    "# 2. Flight list with the full name of the airline and the name of the aircraft\n",
    "flights_with_airlines = flights.merge(airlines, on='airlineid')[['flight', 'airline', 'airplane']]\n",
    "print(\"\\nFlight List with Airline and Aircraft:\")\n",
    "print(flights_with_airlines)"
   ]
  },
  {
   "cell_type": "code",
   "execution_count": 6,
   "metadata": {},
   "outputs": [
    {
     "name": "stdout",
     "output_type": "stream",
     "text": []
    }
   ],
   "source": [
    "# 3. List of passengers on a flight to London sorted by surname\n",
    "london_flight = flights[flights['to'] == 'London']['flight'].iloc[0]\n",
    "london_passengers = passengers[passengers['flight'] == london_flight].sort_values(by='surname')\n",
    "print(\"\\nPassengers on Flight to London (Sorted by Surname):\")\n",
    "print(london_passengers)"
   ]
  },
  {
   "cell_type": "code",
   "execution_count": 7,
   "metadata": {},
   "outputs": [
    {
     "name": "stdout",
     "output_type": "stream",
     "text": []
    }
   ],
   "source": [
    "# 4. List of women flying to Paris ordered by surname\n",
    "paris_flight = flights[flights['to'] == 'Paris']['flight'].iloc[0]\n",
    "women_to_paris = passengers[(passengers['flight'] == paris_flight) & (passengers['gender'] == 'Female')].sort_values(by='surname')\n",
    "print(\"\\nWomen Flying to Paris (Sorted by Surname):\")\n",
    "print(women_to_paris)"
   ]
  },
  {
   "cell_type": "code",
   "execution_count": 8,
   "metadata": {},
   "outputs": [
    {
     "name": "stdout",
     "output_type": "stream",
     "text": []
    }
   ],
   "source": [
    "# 5. Number of passengers on the flight to Berlin\n",
    "berlin_flight = flights[flights['to'] == 'Berlin']['flight'].iloc[0]\n",
    "passengers_to_berlin = passengers[passengers['flight'] == berlin_flight].shape[0]\n",
    "print(\"\\nNumber of Passengers on Flight to Berlin:\")\n",
    "print(passengers_to_berlin)"
   ]
  },
  {
   "cell_type": "code",
   "execution_count": 9,
   "metadata": {},
   "outputs": [
    {
     "name": "stdout",
     "output_type": "stream",
     "text": []
    }
   ],
   "source": [
    "# 6. Number of men flying from Krakow\n",
    "men_from_krakow = passengers[passengers['gender'] == 'Male'].merge(flights, on='flight')\n",
    "number_of_men_from_krakow = men_from_krakow[men_from_krakow['from'] == 'Krakow'].shape[0]\n",
    "print(\"\\nNumber of Men Flying from Krakow:\")\n",
    "print(number_of_men_from_krakow)"
   ]
  },
  {
   "cell_type": "code",
   "execution_count": 10,
   "metadata": {},
   "outputs": [
    {
     "name": "stdout",
     "output_type": "stream",
     "text": []
    }
   ],
   "source": [
    "# 7. Number of passengers for each flight\n",
    "passenger_count_per_flight = passengers['flight'].value_counts().reset_index()\n",
    "passenger_count_per_flight.columns = ['flight', 'passenger_count']\n",
    "print(\"\\nNumber of Passengers for Each Flight:\")\n",
    "print(passenger_count_per_flight)"
   ]
  }
 ],
 "metadata": {
  "kernelspec": {
   "display_name": "base",
   "language": "python",
   "name": "python3"
  },
  "language_info": {
   "codemirror_mode": {
    "name": "ipython",
    "version": 3
   },
   "file_extension": ".py",
   "mimetype": "text/x-python",
   "name": "python",
   "nbconvert_exporter": "python",
   "pygments_lexer": "ipython3",
   "version": "3.12.7"
  }
 },
 "nbformat": 4,
 "nbformat_minor": 2
}
