{
 "cells": [
  {
   "cell_type": "code",
   "execution_count": 1,
   "metadata": {},
   "outputs": [],
   "source": [
    "import pandas as pd\n",
    "\n",
    "# Filepath to the CSV file\n",
    "file_path = \"cities-in-poland.csv\"\n",
    "\n",
    "# Load the CSV file into a DataFrame\n",
    "df = pd.read_csv(file_path, delimiter=';')"
   ]
  },
  {
   "cell_type": "code",
   "execution_count": 2,
   "metadata": {},
   "outputs": [
    {
     "name": "stdout",
     "output_type": "stream",
     "text": [
      "Number of cities in each province:\n",
      "Province\n",
      "dolnośląskie            91\n",
      "kujawsko-pomorskie      52\n",
      "lubelskie               43\n",
      "lubuskie                42\n",
      "mazowieckie             86\n",
      "małopolskie             59\n",
      "opolskie                35\n",
      "podkarpackie            51\n",
      "podlaskie               40\n",
      "pomorskie               42\n",
      "warmińsko-mazurskie     49\n",
      "wielkopolskie          111\n",
      "zachodniopomorskie      65\n",
      "łódzkie                 44\n",
      "śląskie                 71\n",
      "świętokrzyskie          32\n",
      "dtype: int64\n"
     ]
    }
   ],
   "source": [
    "# Calculate the number of cities in each province\n",
    "province_city_count = df.groupby('Province').size()\n",
    "print(\"Number of cities in each province:\")\n",
    "print(province_city_count)"
   ]
  },
  {
   "cell_type": "code",
   "execution_count": 3,
   "metadata": {},
   "outputs": [
    {
     "name": "stdout",
     "output_type": "stream",
     "text": [
      "\n",
      "Total number of inhabitants in each province:\n",
      "Province\n",
      "dolnośląskie           2014847\n",
      "kujawsko-pomorskie     1250502\n",
      "lubelskie               992787\n",
      "lubuskie                663334\n",
      "mazowieckie            3427481\n",
      "małopolskie            1604742\n",
      "opolskie                520618\n",
      "podkarpackie            880328\n",
      "podlaskie               720900\n",
      "pomorskie              1487883\n",
      "warmińsko-mazurskie     854265\n",
      "wielkopolskie          1914114\n",
      "zachodniopomorskie     1177650\n",
      "łódzkie                1583399\n",
      "śląskie                3542874\n",
      "świętokrzyskie          565304\n",
      "Name: Population, dtype: int64\n"
     ]
    }
   ],
   "source": [
    "# Calculate the total population in each province\n",
    "province_population = df.groupby('Province')['Population'].sum()\n",
    "print(\"\\nTotal number of inhabitants in each province:\")\n",
    "print(province_population)"
   ]
  },
  {
   "cell_type": "code",
   "execution_count": 4,
   "metadata": {},
   "outputs": [
    {
     "name": "stdout",
     "output_type": "stream",
     "text": [
      "\n",
      "Total number of inhabitants in each region in 'opolskie' province:\n",
      "Region\n",
      "Opole[a]                   119574\n",
      "nyski                       73571\n",
      "kędzierzyńsko-kozielski     62840\n",
      "brzeski                     51431\n",
      "krapkowicki                 35279\n",
      "kluczborski                 34055\n",
      "strzelecki                  33640\n",
      "prudnicki                   29874\n",
      "oleski                      23715\n",
      "głubczycki                  22087\n",
      "opolski                     18426\n",
      "namysłowski                 16126\n",
      "Name: Population, dtype: int64\n"
     ]
    }
   ],
   "source": [
    "# Calculate the total population in each region in 'opolskie' province\n",
    "region_population_opolskie = (\n",
    "    df[df['Province'] == 'opolskie']\n",
    "    .groupby('Region')['Population']\n",
    "    .sum()\n",
    "    .sort_values(ascending=False)\n",
    ")\n",
    "print(\"\\nTotal number of inhabitants in each region in 'opolskie' province:\")\n",
    "print(region_population_opolskie)"
   ]
  }
 ],
 "metadata": {
  "kernelspec": {
   "display_name": "base",
   "language": "python",
   "name": "python3"
  },
  "language_info": {
   "codemirror_mode": {
    "name": "ipython",
    "version": 3
   },
   "file_extension": ".py",
   "mimetype": "text/x-python",
   "name": "python",
   "nbconvert_exporter": "python",
   "pygments_lexer": "ipython3",
   "version": "3.12.7"
  }
 },
 "nbformat": 4,
 "nbformat_minor": 2
}
